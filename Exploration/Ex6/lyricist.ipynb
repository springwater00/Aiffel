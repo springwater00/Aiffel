{
  "cells": [
    {
      "cell_type": "markdown",
      "source": [
        "# Step 1. 데이터 다운로드"
      ],
      "metadata": {
        "id": "oL6rt6EC96Kn"
      },
      "id": "oL6rt6EC96Kn"
    },
    {
      "cell_type": "code",
      "execution_count": 134,
      "id": "1b8c9102",
      "metadata": {
        "id": "1b8c9102"
      },
      "outputs": [],
      "source": [
        "import glob\n",
        "import os, re\n",
        "import tensorflow as tf"
      ]
    },
    {
      "cell_type": "code",
      "source": [
        "from google.colab import drive\n",
        "drive.mount('/content/drive')"
      ],
      "metadata": {
        "id": "GHWfeaaw2TmK",
        "colab": {
          "base_uri": "https://localhost:8080/"
        },
        "outputId": "bd456788-7d42-4b7a-a876-9e2070c2a6d0"
      },
      "id": "GHWfeaaw2TmK",
      "execution_count": 135,
      "outputs": [
        {
          "output_type": "stream",
          "name": "stdout",
          "text": [
            "Drive already mounted at /content/drive; to attempt to forcibly remount, call drive.mount(\"/content/drive\", force_remount=True).\n"
          ]
        }
      ]
    },
    {
      "cell_type": "code",
      "source": [
        "# Colab용 \n",
        "!wget --no-check-certificate \\\n",
        "    https://storage.googleapis.com/laurencemoroney-blog.appspot.com/irish-lyrics-eof.txt \\\n",
        "    -O /tmp/irish-lyrics-eof.txt"
      ],
      "metadata": {
        "colab": {
          "base_uri": "https://localhost:8080/"
        },
        "id": "pMHPTirm4RRO",
        "outputId": "5d828744-dff3-4795-f6a6-ea4132a707ff"
      },
      "id": "pMHPTirm4RRO",
      "execution_count": 136,
      "outputs": [
        {
          "output_type": "stream",
          "name": "stdout",
          "text": [
            "--2022-12-30 08:37:35--  https://storage.googleapis.com/laurencemoroney-blog.appspot.com/irish-lyrics-eof.txt\n",
            "Resolving storage.googleapis.com (storage.googleapis.com)... 74.125.24.128, 142.250.4.128, 142.251.10.128, ...\n",
            "Connecting to storage.googleapis.com (storage.googleapis.com)|74.125.24.128|:443... connected.\n",
            "HTTP request sent, awaiting response... 200 OK\n",
            "Length: 68970 (67K) [text/plain]\n",
            "Saving to: ‘/tmp/irish-lyrics-eof.txt’\n",
            "\n",
            "\r          /tmp/iris   0%[                    ]       0  --.-KB/s               \r/tmp/irish-lyrics-e 100%[===================>]  67.35K  --.-KB/s    in 0.001s  \n",
            "\n",
            "2022-12-30 08:37:35 (124 MB/s) - ‘/tmp/irish-lyrics-eof.txt’ saved [68970/68970]\n",
            "\n"
          ]
        }
      ]
    },
    {
      "cell_type": "markdown",
      "source": [
        "\n",
        "# Step 2. 데이터 읽어오기"
      ],
      "metadata": {
        "id": "fwlnfCvf-DwY"
      },
      "id": "fwlnfCvf-DwY"
    },
    {
      "cell_type": "code",
      "execution_count": 137,
      "id": "b0929263",
      "metadata": {
        "id": "b0929263",
        "outputId": "bc62a9c2-9aec-4947-91b0-f3af06011cec",
        "colab": {
          "base_uri": "https://localhost:8080/"
        }
      },
      "outputs": [
        {
          "output_type": "stream",
          "name": "stdout",
          "text": [
            "데이터 크기: 187088\n",
            "[\"I'mma start it from the bottom\", \"I'll show you how to flip a dollar\", 'I got food in my dining room', \"I'm better, I'm better, I'm better\", \"It's another day, another chance\", 'I wake up, I wanna dance', 'So as long as I got my friends', \"I'm better, I'm better, I'm better He say I'm hot, I'm so fuego\", 'Pull up on him in my vehicle', \"He say I'm pretty, I'm pretty\"]\n"
          ]
        }
      ],
      "source": [
        "txt_file_path = \"/content/drive/MyDrive/lyric_data/*\" #os.getenv(x)함수는 환경 변수x의 값을 포함하는 문자열 변수를 반환합니다. txt_file_path 에 \"/root/aiffel/lyricist/data/lyrics/*\" 저장\n",
        "txt_list = glob.glob(txt_file_path) #txt_file_path 경로에 있는 모든 파일명을 리스트 형식으로 txt_list 에 할당\n",
        "raw_corpus = [] \n",
        "# C:\\Users\\Soonju\\Desktop\\Aiffel\\Ex6_Lyricist\n",
        "# 여러개의 txt 파일을 모두 읽어서 raw_corpus 에 담습니다.\n",
        "for txt_file in txt_list:\n",
        "    with open(txt_file, \"r\", encoding='UTF8') as f:\n",
        "        raw = f.read().splitlines() #read() : 파일 전체의 내용을 하나의 문자열로 읽어온다. , splitlines()  : 여러라인으로 구분되어 있는 문자열을 한라인씩 분리하여 리스트로 반환\n",
        "        raw_corpus.extend(raw) # extend() : 리스트함수로 추가적인 내용을 연장 한다.\n",
        "\n",
        "print(\"데이터 크기:\", len(raw_corpus))\n",
        "# print(\"Examples:\\n\", raw_corpus[:3])\n",
        "print(raw_corpus[:10])"
      ]
    },
    {
      "cell_type": "markdown",
      "source": [
        "# Step 3. 데이터 정제\n",
        "\n"
      ],
      "metadata": {
        "id": "miHGkp48-QcQ"
      },
      "id": "miHGkp48-QcQ"
    },
    {
      "cell_type": "code",
      "execution_count": 138,
      "id": "3ec63c88",
      "metadata": {
        "id": "3ec63c88",
        "outputId": "bec7c915-0122-479f-bf38-255a6431507b",
        "colab": {
          "base_uri": "https://localhost:8080/"
        }
      },
      "outputs": [
        {
          "output_type": "execute_result",
          "data": {
            "text/plain": [
              "[\"<start> i ' mma start it from the bottom <end>\",\n",
              " \"<start> i ' ll show you how to flip a dollar <end>\",\n",
              " '<start> i got food in my dining room <end>',\n",
              " \"<start> i ' m better , i ' m better , i ' m better <end>\",\n",
              " \"<start> it ' s another day , another chance <end>\",\n",
              " '<start> i wake up , i wanna dance <end>',\n",
              " '<start> so as long as i got my friends <end>',\n",
              " \"<start> i ' m better , i ' m better , i ' m better he say i ' m hot , i ' m so fuego <end>\",\n",
              " '<start> pull up on him in my vehicle <end>',\n",
              " \"<start> he say i ' m pretty , i ' m pretty <end>\"]"
            ]
          },
          "metadata": {},
          "execution_count": 138
        }
      ],
      "source": [
        "corpus = []\n",
        "\n",
        "for sentence in raw_corpus:\n",
        "    if len(sentence.split()) > 15: continue\n",
        "    \n",
        "    def preprocess_sentence(sentence):\n",
        "        sentence = sentence.lower().strip() # 1\n",
        "        sentence = re.sub(r\"([?.!,¿,'])\", r\" \\1 \", sentence) # 2\n",
        "        sentence = re.sub(r'[\" \"]+', \" \", sentence) # 3\n",
        "        sentence = re.sub(r\"[^a-zA-Z?.!,¿,']+\", \" \", sentence) # 4\n",
        "        sentence = sentence.strip() # 5\n",
        "        sentence = '<start> ' + sentence + ' <end>' # 6 문장 시작에는 <start>, 끝에는 <end>를 추가합니다\n",
        "        return sentence\n",
        "    preprocessed_sentence = preprocess_sentence(sentence)    \n",
        "    corpus.append(preprocessed_sentence)\n",
        "corpus[:10]"
      ]
    },
    {
      "cell_type": "markdown",
      "source": [
        "# Step 4. 평가 데이터셋 분리"
      ],
      "metadata": {
        "id": "k7Wx_Bcn-TxU"
      },
      "id": "k7Wx_Bcn-TxU"
    },
    {
      "cell_type": "markdown",
      "source": [
        "## 1. 토큰화 \n",
        "\n",
        "1.   text 분리하여 인덱스부여\n",
        "2.   텐서화\n",
        "\n"
      ],
      "metadata": {
        "id": "wNsIpFmN-T87"
      },
      "id": "wNsIpFmN-T87"
    },
    {
      "cell_type": "code",
      "execution_count": 139,
      "id": "41d42462",
      "metadata": {
        "id": "41d42462",
        "outputId": "c92cff91-fda5-4adc-e358-cf313bec510a",
        "colab": {
          "base_uri": "https://localhost:8080/"
        }
      },
      "outputs": [
        {
          "output_type": "stream",
          "name": "stdout",
          "text": [
            "[[  2   6   4 ...   0   0   0]\n",
            " [  2   6   4 ...   0   0   0]\n",
            " [  2   6  41 ...   0   0   0]\n",
            " ...\n",
            " [  2   6   4 ...   0   0   0]\n",
            " [  2 113 664 ...   0   0   0]\n",
            " [  2   9  51 ...   0   0   0]] <keras.preprocessing.text.Tokenizer object at 0x7f13fa5bc4c0>\n"
          ]
        }
      ],
      "source": [
        "def tokenize(corpus):\n",
        "    tokenizer = tf.keras.preprocessing.text.Tokenizer(\n",
        "        num_words=12000, \n",
        "        filters=' ',\n",
        "        oov_token=\"<unk>\")\n",
        "    tokenizer.fit_on_texts(corpus) # 1단계 :corpus의 text를 list로 변환\n",
        "\n",
        "#     word_index = tokenizer.word_index  # 번외: word 별로 index를 붙여 단어 하나당 인덱스 하나씩 부여한 딕셔너리.\n",
        "#     print(word_index) \n",
        "   \n",
        "    tensor = tokenizer.texts_to_sequences(corpus) # 2단계 :text를 sequence,tensor로 변환   \n",
        "    tensor = tf.keras.preprocessing.sequence.pad_sequences(tensor, padding='post', maxlen=15) # 끝에 pad주기 \n",
        "    print(tensor,tokenizer)\n",
        "    return tensor, tokenizer\n",
        "\n",
        "\n",
        "tensor, tokenizer = tokenize(corpus)\n"
      ]
    },
    {
      "cell_type": "markdown",
      "source": [
        "## 2. train, target 분리하기"
      ],
      "metadata": {
        "id": "Id4HzG2p-8fv"
      },
      "id": "Id4HzG2p-8fv"
    },
    {
      "cell_type": "code",
      "execution_count": 140,
      "id": "3189fc57",
      "metadata": {
        "id": "3189fc57",
        "colab": {
          "base_uri": "https://localhost:8080/"
        },
        "outputId": "ef52fefa-5c15-470e-b8ff-42b43f34ccb7"
      },
      "outputs": [
        {
          "output_type": "stream",
          "name": "stdout",
          "text": [
            "[  2   6   4 530 342  12  75   7 876   3   0   0   0   0]\n",
            "[  6   4 530 342  12  75   7 876   3   0   0   0   0   0]\n"
          ]
        }
      ],
      "source": [
        "src_input = tensor[:, :-1]  \n",
        "tgt_input = tensor[:, 1:]    \n",
        "print(src_input[0])\n",
        "print(tgt_input[0])"
      ]
    },
    {
      "cell_type": "code",
      "execution_count": 141,
      "id": "c5be9b3a",
      "metadata": {
        "id": "c5be9b3a",
        "colab": {
          "base_uri": "https://localhost:8080/"
        },
        "outputId": "bc2d0bd9-74cb-4fc4-f884-427f39992ce1"
      },
      "outputs": [
        {
          "output_type": "execute_result",
          "data": {
            "text/plain": [
              "<BatchDataset element_spec=(TensorSpec(shape=(256, 14), dtype=tf.int32, name=None), TensorSpec(shape=(256, 14), dtype=tf.int32, name=None))>"
            ]
          },
          "metadata": {},
          "execution_count": 141
        }
      ],
      "source": [
        "BUFFER_SIZE = len(src_input)\n",
        "BATCH_SIZE = 256                                # 한번에 가져올 문장 수 \n",
        "steps_per_epoch = len(src_input) // BATCH_SIZE\n",
        "VOCAB_SIZE = tokenizer.num_words + 1   \n",
        "\n",
        "Tdata = tf.data.Dataset.from_tensor_slices((src_input, tgt_input)) # 주어진 데이터 sequences(src_input)와 label(tgt_input)을 묶어서 조각으로 만들고 같이 사용\n",
        "Tdata = Tdata.shuffle(BUFFER_SIZE)\n",
        "Tdata = Tdata.batch(BATCH_SIZE, drop_remainder=True)\n",
        "Tdata\n"
      ]
    },
    {
      "cell_type": "code",
      "source": [
        "from sklearn.model_selection import train_test_split\n",
        "enc_train, enc_val, dec_train, dec_val = train_test_split(src_input,tgt_input, test_size= 0.2, random_state=1234)\n",
        "\n",
        "print(enc_train.shape,enc_val.shape,dec_train.shape,dec_val.shape)\n",
        "\n"
      ],
      "metadata": {
        "colab": {
          "base_uri": "https://localhost:8080/"
        },
        "id": "TpcJERpjGL97",
        "outputId": "e9bbe5c2-6b66-4a75-cb90-4e41397e43fd"
      },
      "id": "TpcJERpjGL97",
      "execution_count": 142,
      "outputs": [
        {
          "output_type": "stream",
          "name": "stdout",
          "text": [
            "(143753, 14) (35939, 14) (143753, 14) (35939, 14)\n"
          ]
        }
      ]
    },
    {
      "cell_type": "markdown",
      "source": [
        "# Step 5. 인공지능 만들기"
      ],
      "metadata": {
        "id": "MgfCRYt6_D0y"
      },
      "id": "MgfCRYt6_D0y"
    },
    {
      "cell_type": "markdown",
      "source": [
        "## 1. 모델만들기"
      ],
      "metadata": {
        "id": "gt8R_41c_HJF"
      },
      "id": "gt8R_41c_HJF"
    },
    {
      "cell_type": "code",
      "execution_count": 143,
      "id": "3a0461e6",
      "metadata": {
        "id": "3a0461e6",
        "colab": {
          "base_uri": "https://localhost:8080/"
        },
        "outputId": "3d56d55c-eecc-40fb-ac47-27f9fc993434"
      },
      "outputs": [
        {
          "output_type": "stream",
          "name": "stdout",
          "text": [
            "Epoch 1/10\n",
            "701/701 [==============================] - 122s 167ms/step - loss: 3.3427\n",
            "Epoch 2/10\n",
            "701/701 [==============================] - 117s 167ms/step - loss: 2.8694\n",
            "Epoch 3/10\n",
            "701/701 [==============================] - 117s 166ms/step - loss: 2.6895\n",
            "Epoch 4/10\n",
            "701/701 [==============================] - 117s 166ms/step - loss: 2.5535\n",
            "Epoch 5/10\n",
            "701/701 [==============================] - 117s 167ms/step - loss: 2.4349\n",
            "Epoch 6/10\n",
            "701/701 [==============================] - 117s 166ms/step - loss: 2.3272\n",
            "Epoch 7/10\n",
            "701/701 [==============================] - 117s 167ms/step - loss: 2.2267\n",
            "Epoch 8/10\n",
            "701/701 [==============================] - 117s 167ms/step - loss: 2.1335\n",
            "Epoch 9/10\n",
            "701/701 [==============================] - 117s 167ms/step - loss: 2.0452\n",
            "Epoch 10/10\n",
            "701/701 [==============================] - 117s 167ms/step - loss: 1.9620\n"
          ]
        }
      ],
      "source": [
        "class TextGenerator(tf.keras.Model):\n",
        "    def __init__(self, vocab_size, embedding_size, hidden_size):\n",
        "        super().__init__()\n",
        "        # Embedding 레이어, 2개의 LSTM 레이어, 1개의 Dense 레이어로 구성되어 있다.\n",
        "        # Embedding 레이어는 단어 사전의 인덱스 값을 해당 인덱스 번째의 워드 벡터로 바꿔준다.\n",
        "        # 이 워드 벡터는 의미 벡터 공간에서 단어의 추상적 표현으로 사용된다. \n",
        "        self.embedding = tf.keras.layers.Embedding(vocab_size, embedding_size) \n",
        "        self.rnn_1 = tf.keras.layers.LSTM(hidden_size, return_sequences=True)  \n",
        "        self.rnn_2 = tf.keras.layers.LSTM(hidden_size, return_sequences=True)\n",
        "        self.linear = tf.keras.layers.Dense(vocab_size)\n",
        "        \n",
        "    def call(self, x):\n",
        "        out = self.embedding(x)\n",
        "        out = self.rnn_1(out)\n",
        "        out = self.rnn_2(out)\n",
        "        out = self.linear(out)\n",
        "        \n",
        "        return out\n",
        "# embedding size 값이 커질수록 단어의 추상적인 특징들을 더 잡아낼 수 있지만\n",
        "# 그만큼 충분한 데이터가 없으면 안좋은 결과 값을 가져옵니다!   \n",
        "embedding_size = 256 # 워드 벡터의 차원수를 말하며 단어가 추상적으로 표현되는 크기입니다.\n",
        "hidden_size = 1024 # 모델에 얼마나 많은 일꾼을 둘 것인가? 정도로 이해하면 좋다.\n",
        "model = TextGenerator(tokenizer.num_words + 1, embedding_size , hidden_size) # tokenizer.num_words에 +1인 이유는 문장에 없는 pad가 사용되었기 때문이다.\n",
        "\n",
        "\n",
        "optimizer = tf.keras.optimizers.Adam()\n",
        "loss = tf.keras.losses.SparseCategoricalCrossentropy(from_logits=True,reduction='none')\n",
        "\n",
        "model.compile(loss=loss, optimizer=optimizer)\n",
        "history = model.fit(Tdata, epochs=10)\n",
        "\n",
        "# split 제대로 하지 않았을때, Epoch 10/10\n",
        "# 78/78 [==============================] - 17s 212ms/step - loss: 0.4697\n",
        "\n",
        "# split 제대로 되었을 때, Epoch 10/10\n",
        "# 701/701 [==============================] - 117s 167ms/step - loss: 1.9620"
      ]
    },
    {
      "cell_type": "markdown",
      "source": [
        "## 2. 작문 함수 만들기"
      ],
      "metadata": {
        "id": "QnTzoBd7_cre"
      },
      "id": "QnTzoBd7_cre"
    },
    {
      "cell_type": "code",
      "execution_count": 144,
      "id": "e242e8ee",
      "metadata": {
        "id": "e242e8ee",
        "colab": {
          "base_uri": "https://localhost:8080/"
        },
        "outputId": "697af087-5fc1-4e7d-b6a2-0d304b615540"
      },
      "outputs": [
        {
          "data": {
            "text/plain": [
              "str"
            ]
          },
          "execution_count": 144,
          "metadata": {},
          "output_type": "execute_result"
        }
      ],
      "source": [
        "#문장생성 함수 정의\n",
        "#모델에게 시작 문장을 전달하면 모델이 시작 문장을 바탕으로 작문을 진행\n",
        "def generate_text(model, tokenizer, init_sentence=\"<start>\", max_len=20): #시작 문자열을 init_sentence 로 받으며 디폴트값은 <start> 를 받는다\n",
        "    # 테스트를 위해서 입력받은 init_sentence도 텐서로 변환합니다\n",
        "    test_input = tokenizer.texts_to_sequences([init_sentence]) #텍스트 안의 단어들을 숫자의 시퀀스의 형태로 변환\n",
        "    test_tensor = tf.convert_to_tensor(test_input, dtype=tf.int64)\n",
        "    end_token = tokenizer.word_index[\"<end>\"]\n",
        "\n",
        "    # 단어 하나씩 예측해 문장을 만듭니다\n",
        "    #    1. 입력받은 문장의 텐서를 입력합니다\n",
        "    #    2. 예측된 값 중 가장 높은 확률인 word index를 뽑아냅니다\n",
        "    #    3. 2에서 예측된 word index를 문장 뒤에 붙입니다\n",
        "    #    4. 모델이 <end>를 예측했거나, max_len에 도달했다면 문장 생성을 마칩니다 (도달 하지 못하였으면 while 루프를 돌면서 다음 단어를 예측)\n",
        "    while True: #루프를 돌면서 init_sentence에 단어를 하나씩 생성성\n",
        "        # 1\n",
        "        predict = model(test_tensor) \n",
        "        # 2\n",
        "        predict_word = tf.argmax(tf.nn.softmax(predict, axis=-1), axis=-1)[:, -1] \n",
        "        # 3 \n",
        "        test_tensor = tf.concat([test_tensor, tf.expand_dims(predict_word, axis=0)], axis=-1)\n",
        "        # 4 \n",
        "        if predict_word.numpy()[0] == end_token: break\n",
        "        if test_tensor.shape[1] >= max_len: break\n",
        "\n",
        "    generated = \"\"\n",
        "    # tokenizer를 이용해 word index를 단어로 하나씩 변환합니다 \n",
        "    for word_index in test_tensor[0].numpy():\n",
        "        generated += tokenizer.index_word[word_index] + \" \"\n",
        "\n",
        "    return generated #최종적으로 모델이 생성한 문장을 반환\n",
        "\n",
        "type(sentence)"
      ]
    },
    {
      "cell_type": "markdown",
      "source": [
        "## 3. 작문 시키기"
      ],
      "metadata": {
        "id": "Eo1mr0sQ_kQk"
      },
      "id": "Eo1mr0sQ_kQk"
    },
    {
      "cell_type": "code",
      "source": [
        "generate_text(model, tokenizer, init_sentence=\"<start> i love\", max_len=20)\n",
        "# generate_text 함수에 lyricist 라 정의한 모델을 이용해서 ilove 로 시작되는 문장을 생성"
      ],
      "metadata": {
        "colab": {
          "base_uri": "https://localhost:8080/",
          "height": 35
        },
        "id": "HaTXBBN962KD",
        "outputId": "00459a0c-8d3b-472e-b720-e38f9edf28d4"
      },
      "id": "HaTXBBN962KD",
      "execution_count": 145,
      "outputs": [
        {
          "output_type": "execute_result",
          "data": {
            "text/plain": [
              "'<start> i love you , i love you <end> '"
            ],
            "application/vnd.google.colaboratory.intrinsic+json": {
              "type": "string"
            }
          },
          "metadata": {},
          "execution_count": 145
        }
      ]
    },
    {
      "cell_type": "code",
      "source": [
        "BUFFER_SIZE = len(enc_val)\n",
        "BATCH_SIZE = 256                                # 한번에 가져올 문장 수 \n",
        "steps_per_epoch = len(enc_val) // BATCH_SIZE\n",
        "VOCAB_SIZE = tokenizer.num_words + 1   \n",
        "\n",
        "data = tf.data.Dataset.from_tensor_slices((enc_val, dec_val)) # 주어진 데이터 sequences(src_input)와 label(tgt_input)을 묶어서 조각으로 만들고 같이 사용\n",
        "data = data.shuffle(BUFFER_SIZE)\n",
        "data = data.batch(BATCH_SIZE, drop_remainder=True)\n",
        "data\n",
        "loss = model.evaluate(data)\n",
        "print('val loss',loss) # val loss 1.8701671361923218\n"
      ],
      "metadata": {
        "colab": {
          "base_uri": "https://localhost:8080/"
        },
        "id": "fiK6sjjzEfF4",
        "outputId": "be92d5d9-dbca-4295-a503-f83cac3e0210"
      },
      "id": "fiK6sjjzEfF4",
      "execution_count": 146,
      "outputs": [
        {
          "output_type": "stream",
          "name": "stdout",
          "text": [
            "140/140 [==============================] - 10s 65ms/step - loss: 1.8702\n",
            "val loss 1.8701671361923218\n"
          ]
        }
      ]
    },
    {
      "cell_type": "markdown",
      "source": [
        "회고\n",
        "\n",
        "NLP의 전처리 과정이 상당히 복잡하고 어려웠다.\n",
        "예전 노드에서 익숙치 않았던 데이터 불러오는 법, re 정규표현식, 텍스트를 다루던 모든 것에 대해 다시 복습해야 했다.\n",
        "더불어 벡터와 텐서에 대해서도 다시 공부할 수 밖에 없었다.\n",
        "컴퓨터의 모국어는 숫자인데 내가 사람의 언어를 컴퓨터에게 전달해주는데에 모자람을 느꼈다. 통역이 안되는 느낌..\n",
        "특히 정규표현식을 다시 복습할 때에 제일 많이 느낀 것 같다.\n",
        "\n",
        "컴퓨터는 '숫자'와 '차원'으로 표현한다.  \n",
        "그 작업을 '데이터 전처리'에서도 하고, '모델링'에서도 한다.  \n",
        "데이터 전처리에서는 '토큰화'를 통해서,  \n",
        "모델링에서는 'embedding layer'가 그러하다.\n",
        "\n",
        "문자를 숫자로 바꾸고,  \n",
        "이를 텐서로 바꿔 lookup table (aka.단어장)을 만들어놔야만  \n",
        "내가 이후에 컴퓨터에게 일을 시킬 수 있단 사실 잊지않기.  \n",
        "컴퓨터와 소통하는 절차에 대해 생각해보게 되었다.\n",
        "\n",
        "**최종결과**\n",
        "val loss 1.8701671361923218"
      ],
      "metadata": {
        "id": "Qy9oiLeVBw-I"
      },
      "id": "Qy9oiLeVBw-I"
    }
  ],
  "metadata": {
    "kernelspec": {
      "display_name": "Python 3 (ipykernel)",
      "language": "python",
      "name": "python3"
    },
    "language_info": {
      "codemirror_mode": {
        "name": "ipython",
        "version": 3
      },
      "file_extension": ".py",
      "mimetype": "text/x-python",
      "name": "python",
      "nbconvert_exporter": "python",
      "pygments_lexer": "ipython3",
      "version": "3.9.12"
    },
    "colab": {
      "provenance": []
    },
    "accelerator": "GPU",
    "gpuClass": "standard"
  },
  "nbformat": 4,
  "nbformat_minor": 5
}